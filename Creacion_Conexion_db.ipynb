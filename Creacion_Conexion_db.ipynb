{
 "cells": [
  {
   "attachments": {},
   "cell_type": "markdown",
   "metadata": {},
   "source": [
    "# AWS - RDS MySQL\n",
    "### Librerías.\n"
   ]
  },
  {
   "cell_type": "code",
   "execution_count": 1,
   "metadata": {},
   "outputs": [],
   "source": [
    "import pymysql\n",
    "import pandas as pd\n",
    "from dotenv import load_dotenv\n",
    "import os"
   ]
  },
  {
   "attachments": {},
   "cell_type": "markdown",
   "metadata": {},
   "source": [
    "### Credenciales."
   ]
  },
  {
   "cell_type": "code",
   "execution_count": 2,
   "metadata": {},
   "outputs": [
    {
     "data": {
      "text/plain": [
       "True"
      ]
     },
     "execution_count": 2,
     "metadata": {},
     "output_type": "execute_result"
    }
   ],
   "source": [
    "'''Cargar las variables de entorno desde .env '''\n",
    "\n",
    "load_dotenv()"
   ]
  },
  {
   "cell_type": "code",
   "execution_count": 3,
   "metadata": {},
   "outputs": [],
   "source": [
    "'''Obtener la clave de la base de datos.'''\n",
    "\n",
    "host = os.getenv(\"Database_URL\")\n",
    "user = os.getenv(\"user\")\n",
    "password_db = os.getenv(\"password_db\")"
   ]
  },
  {
   "attachments": {},
   "cell_type": "markdown",
   "metadata": {},
   "source": [
    "### Conexion BD"
   ]
  },
  {
   "cell_type": "code",
   "execution_count": 4,
   "metadata": {},
   "outputs": [],
   "source": [
    "'''\n",
    "Conexión con la base de datos.\n",
    "'''\n",
    "\n",
    "db = pymysql.connect(host = host,\n",
    "                     user = user,\n",
    "                     password = password_db,\n",
    "                     port = 3306,\n",
    "                     cursorclass = pymysql.cursors.DictCursor   #que lo devuelva en forma de diccionario.\n",
    ")\n",
    "\n",
    "# Ejecutar queries.\n",
    "\n",
    "cursor = db.cursor()"
   ]
  },
  {
   "attachments": {},
   "cell_type": "markdown",
   "metadata": {},
   "source": [
    "### Creación de DB"
   ]
  },
  {
   "cell_type": "code",
   "execution_count": null,
   "metadata": {},
   "outputs": [],
   "source": [
    "'''Crear la base de datos.'''\n",
    "\n",
    "create_db = 'CREATE DATABASE recomendador_libros'\n",
    "cursor.execute(create_db)"
   ]
  },
  {
   "cell_type": "code",
   "execution_count": 15,
   "metadata": {},
   "outputs": [
    {
     "data": {
      "text/plain": [
       "[{'Database': 'information_schema'},\n",
       " {'Database': 'mysql'},\n",
       " {'Database': 'performance_schema'},\n",
       " {'Database': 'recomendador_libros'},\n",
       " {'Database': 'sys'}]"
      ]
     },
     "execution_count": 15,
     "metadata": {},
     "output_type": "execute_result"
    }
   ],
   "source": [
    "''''Mostrar la base de datos.'''\n",
    "\n",
    "cursor.execute('SHOW DATABASES')\n",
    "cursor.fetchall()"
   ]
  },
  {
   "attachments": {},
   "cell_type": "markdown",
   "metadata": {},
   "source": [
    "### Creación de tablas"
   ]
  },
  {
   "cell_type": "code",
   "execution_count": 31,
   "metadata": {},
   "outputs": [
    {
     "data": {
      "text/plain": [
       "0"
      ]
     },
     "execution_count": 31,
     "metadata": {},
     "output_type": "execute_result"
    }
   ],
   "source": [
    "'''Creamos una tabla en la base de datos.'''\n",
    "\n",
    "create_table = '''\n",
    "CREATE TABLE consultas (\n",
    "    id INT NOT NULL auto_increment,    \n",
    "    consulta TEXT,\n",
    "    recomendacion TEXT,    \n",
    "    primary key (id)\n",
    ")\n",
    "'''\n",
    "cursor.execute(\"USE recomendador_libros;\")\n",
    "cursor.execute(create_table)"
   ]
  },
  {
   "attachments": {},
   "cell_type": "markdown",
   "metadata": {},
   "source": [
    "### Seleccionar la BD"
   ]
  },
  {
   "cell_type": "code",
   "execution_count": 5,
   "metadata": {},
   "outputs": [
    {
     "data": {
      "text/plain": [
       "0"
      ]
     },
     "execution_count": 5,
     "metadata": {},
     "output_type": "execute_result"
    }
   ],
   "source": [
    "'''Para usar la BD  recien creada.'''\n",
    "\n",
    "cursor.connection.commit()\n",
    "use_db = 'USE recomendador_libros'\n",
    "cursor.execute(use_db)"
   ]
  },
  {
   "cell_type": "code",
   "execution_count": 6,
   "metadata": {},
   "outputs": [
    {
     "data": {
      "text/plain": [
       "[{'Tables_in_recomendador_libros': 'consultas'}]"
      ]
     },
     "execution_count": 6,
     "metadata": {},
     "output_type": "execute_result"
    }
   ],
   "source": [
    "'''Comprobar las tablas que tiene la base de datos. '''\n",
    "\n",
    "cursor.execute('SHOW TABLES')\n",
    "cursor.fetchall()"
   ]
  },
  {
   "attachments": {},
   "cell_type": "markdown",
   "metadata": {},
   "source": [
    "### Insertar datos"
   ]
  },
  {
   "cell_type": "code",
   "execution_count": 34,
   "metadata": {},
   "outputs": [],
   "source": [
    "'''Datos para insertar.'''\n",
    "\n",
    "consulta = 'asesinato Pais Vasco'\n",
    "recomendacion = 'Trilogia Baztan'"
   ]
  },
  {
   "cell_type": "code",
   "execution_count": null,
   "metadata": {},
   "outputs": [],
   "source": [
    "'''Insertar nuevos datos.'''\n",
    "\n",
    "insert_data = '''\n",
    "INSERT INTO consultas (consulta, recomendacion)\n",
    "VALUES ('%s', '%s')\n",
    "''' % (consulta, recomendacion)\n",
    "\n",
    "cursor.execute(insert_data)"
   ]
  },
  {
   "attachments": {},
   "cell_type": "markdown",
   "metadata": {},
   "source": [
    "### Leer datos"
   ]
  },
  {
   "cell_type": "code",
   "execution_count": null,
   "metadata": {},
   "outputs": [],
   "source": [
    "sql = '''SELECT * FROM consultas'''\n",
    "cursor.execute(sql)"
   ]
  },
  {
   "cell_type": "code",
   "execution_count": null,
   "metadata": {},
   "outputs": [],
   "source": [
    "mi_lista = cursor.fetchall()\n",
    "len(mi_lista)"
   ]
  },
  {
   "cell_type": "code",
   "execution_count": 49,
   "metadata": {},
   "outputs": [
    {
     "data": {
      "text/plain": [
       "[{'id': 2,\n",
       "  'consulta': 'quiero un libro de asesinatos ambientado en el pais vasco',\n",
       "  'recomendacion': 'Un libro que cumple con tus requisitos es \"El Silencio de la Ciudad Blanca\" de Eva García Sáenz de Urturi.\\n\\nEsta novela policíaca está ambientada en la ciudad de Vitoria-Gasteiz y sigue la investigación de unos crímenes que parecen estar relacionados con unos sucesos ocurridos veinte años atrás. La trama gira en torno al inspector Unai López de Ayala, conocido como \"Kraken\", quien deberá resolver el caso antes de que sea demasiado tarde.\\n\\n\"El Silencio de la Ciudad Blanca\" es una novela emocionante y adictiva que ha sido muy bien recibida por los lectores y ha ganado varios premios literarios. Si te gustan los thrillers y la ambientación vasca, definitivamente deberías darle una oportunidad a este libro.'},\n",
       " {'id': 9,\n",
       "  'consulta': 'quiero un libro escrito por un español ambientado en la Mancha',\n",
       "  'recomendacion': 'Si estás buscando un libro escrito por un autor español y ambientado en La Mancha, te recomiendo \"El Quijote\" de Miguel de Cervantes. \\n\\n\"El Quijote\" es una novela clásica de la literatura española y una de las obras más influyentes de la historia. La historia sigue las aventuras de Alonso Quijano, un hidalgo manchego que, tras leer demasiados libros de caballería, decide convertirse en un caballero andante y salir en busca de aventuras y hazañas. \\n\\nA lo largo de sus viajes, Quijote, como se hace llamar, y su fiel escudero Sancho Panza, se encuentran con todo tipo de personajes y situaciones cómicas, trágicas y absurdas, que reflejan la realidad de la España del siglo XVII. \\n\\nLa novela es una crítica satírica de los ideales caballerescos y una exploración de la naturaleza humana, la locura y la imaginación. La Mancha, con sus llanuras y molinos de viento, es un escenario clave en la historia, y Cervantes la describe con gran detalle y cariño. \\n\\n\"El Quijote\" es una obra maestra de la literatura y una lectura obligada para cualquier amante de los libros. Su humor, su profundidad y su capacidad para retratar la condición humana la han convertido en un clásico atemporal que sigue cautivando a lectores de todas las edades.'},\n",
       " {'id': 15,\n",
       "  'consulta': 'crimenes nordicos que no sean la saga millenium',\n",
       "  'recomendacion': '¡Por supuesto! Hay muchos excelentes autores de crímenes nórdicos además de Stieg Larsson y su famosa saga Millennium. Aquí te recomiendo algunos libros que podrían interesarte:\\n\\n1. \"La princesa de hielo\" de Camilla Läckberg: Este es el primer libro de una exitosa serie de crímenes ambientada en la pequeña ciudad costera de Fjällbacka en Suecia. La historia sigue a la escritora Erica Falck, quien se ve envuelta en la investigación del asesinato de su amiga de la infancia, Alex. La trama es intrincada y presenta una mezcla de misterio, drama familiar y romance.\\n\\n2. \"El hombre inquieto\" de Henning Mankell: Este libro es parte de la popular serie del inspector Kurt Wallander, ambientada en la ciudad sueca de Ystad. En esta ocasión, Wallander se enfrenta a un caso que involucra a un ex oficial naval y a una conspiración que amenaza la seguridad nacional. La novela explora temas de espionaje, traición y la historia política de Suecia.\\n\\n3. \"La mujer de verde\" de Arnaldur Indriðason: Esta novela es parte de la serie del detective Erlendur Sveinsson en Reikiavik, Islandia. La historia comienza con el descubrimiento de los restos de un hombre que desapareció décadas atrás, lo que lleva a Erlendur a investigar un caso no resuelto que involucra a una mujer vestida de verde. La novela es un emocionante thriller que también explora las complejidades de las relaciones familiares y el impacto del pasado en el presente.\\n\\n4. \"La ceguera del ángel\" de Kjell Eriksson: Este libro es parte de la serie de crímenes de Ann Lindell, ambientada en la ciudad sueca de Uppsala. La historia sigue a la inspectora Lindell mientras investiga una serie de crímenes violentos que parecen estar conectados a una misteriosa figura conocida como \"El Ángel\". La novela es un emocionante thriller que también explora temas sociales y políticos.\\n\\n5. \"La red púrpura\" de Åsa Larsson: Esta novela es el primer libro de una serie de crímenes ambientada en la remota región de Kiruna, en el norte de Suecia. La abogada Rebecka Martinsson regresa a su ciudad natal y se ve envuelta en la investigación del asesinato de un obispo local. La historia es un emocionante thriller que también explora temas de corrupción, secretos familiares y la lucha por la justicia.\\n\\nEstos son solo algunos ejemplos de crímenes nórdicos fuera de la saga Millennium. Cada uno de estos autores ha creado mundos fascinantes y personajes complejos que seguramente disfrutarás si te gusta el género de crímenes y misterios.'}]"
      ]
     },
     "execution_count": 49,
     "metadata": {},
     "output_type": "execute_result"
    }
   ],
   "source": [
    "mi_lista"
   ]
  },
  {
   "cell_type": "code",
   "execution_count": 47,
   "metadata": {},
   "outputs": [
    {
     "data": {
      "text/html": [
       "<div>\n",
       "<style scoped>\n",
       "    .dataframe tbody tr th:only-of-type {\n",
       "        vertical-align: middle;\n",
       "    }\n",
       "\n",
       "    .dataframe tbody tr th {\n",
       "        vertical-align: top;\n",
       "    }\n",
       "\n",
       "    .dataframe thead th {\n",
       "        text-align: right;\n",
       "    }\n",
       "</style>\n",
       "<table border=\"1\" class=\"dataframe\">\n",
       "  <thead>\n",
       "    <tr style=\"text-align: right;\">\n",
       "      <th></th>\n",
       "      <th>id</th>\n",
       "      <th>consulta</th>\n",
       "      <th>recomendacion</th>\n",
       "    </tr>\n",
       "  </thead>\n",
       "  <tbody>\n",
       "    <tr>\n",
       "      <th>0</th>\n",
       "      <td>2</td>\n",
       "      <td>quiero un libro de asesinatos ambientado en el...</td>\n",
       "      <td>Un libro que cumple con tus requisitos es \"El ...</td>\n",
       "    </tr>\n",
       "    <tr>\n",
       "      <th>1</th>\n",
       "      <td>9</td>\n",
       "      <td>quiero un libro escrito por un español ambient...</td>\n",
       "      <td>Si estás buscando un libro escrito por un auto...</td>\n",
       "    </tr>\n",
       "    <tr>\n",
       "      <th>2</th>\n",
       "      <td>15</td>\n",
       "      <td>crimenes nordicos que no sean la saga millenium</td>\n",
       "      <td>¡Por supuesto! Hay muchos excelentes autores d...</td>\n",
       "    </tr>\n",
       "  </tbody>\n",
       "</table>\n",
       "</div>"
      ],
      "text/plain": [
       "   id                                           consulta  \\\n",
       "0   2  quiero un libro de asesinatos ambientado en el...   \n",
       "1   9  quiero un libro escrito por un español ambient...   \n",
       "2  15    crimenes nordicos que no sean la saga millenium   \n",
       "\n",
       "                                       recomendacion  \n",
       "0  Un libro que cumple con tus requisitos es \"El ...  \n",
       "1  Si estás buscando un libro escrito por un auto...  \n",
       "2  ¡Por supuesto! Hay muchos excelentes autores d...  "
      ]
     },
     "execution_count": 47,
     "metadata": {},
     "output_type": "execute_result"
    }
   ],
   "source": [
    "'''Ver la tabla en formato Dataframe.'''\n",
    "\n",
    "pd.DataFrame(mi_lista)"
   ]
  },
  {
   "attachments": {},
   "cell_type": "markdown",
   "metadata": {},
   "source": [
    "### Cerrar la conexión cuando acabemos"
   ]
  },
  {
   "cell_type": "code",
   "execution_count": 48,
   "metadata": {},
   "outputs": [],
   "source": [
    "# Cerrar conexión mysql\n",
    "db.close()"
   ]
  },
  {
   "cell_type": "code",
   "execution_count": null,
   "metadata": {},
   "outputs": [],
   "source": []
  }
 ],
 "metadata": {
  "kernelspec": {
   "display_name": "Python 3",
   "language": "python",
   "name": "python3"
  },
  "language_info": {
   "codemirror_mode": {
    "name": "ipython",
    "version": 3
   },
   "file_extension": ".py",
   "mimetype": "text/x-python",
   "name": "python",
   "nbconvert_exporter": "python",
   "pygments_lexer": "ipython3",
   "version": "3.11.9"
  }
 },
 "nbformat": 4,
 "nbformat_minor": 4
}
